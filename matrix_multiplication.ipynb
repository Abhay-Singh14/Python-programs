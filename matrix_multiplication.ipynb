{
 "cells": [
  {
   "cell_type": "code",
   "execution_count": 2,
   "id": "7d66c13b",
   "metadata": {},
   "outputs": [
    {
     "name": "stdout",
     "output_type": "stream",
     "text": [
      "[[7 9 0]\n",
      " [7 6 2]\n",
      " [9 3 7]]\n",
      "[[3 3]\n",
      " [8 9]\n",
      " [3 4]]\n",
      "manually\n",
      "[[ 93. 102.]\n",
      " [ 75.  83.]\n",
      " [ 72.  82.]]\n",
      "function\n",
      "[[ 93 102]\n",
      " [ 75  83]\n",
      " [ 72  82]]\n"
     ]
    }
   ],
   "source": [
    "import numpy as np;\n",
    "b1=3;\n",
    "c1=3;\n",
    "a=np.random.randint(0,10,(b1,c1));\n",
    "b2=3;\n",
    "c2=2;\n",
    "b=np.random.randint(0,10,(b2,c2));\n",
    "print(a);\n",
    "print(b);\n",
    "if(c1==b2):\n",
    "    arr=np.zeros((b1,c2));#Return a new array of given shape and type, filled with zeros\n",
    "    add=0;\n",
    "    for i in range(0, b1):\n",
    "        for j in range(0, c2):\n",
    "            for k in range(0, b2):\n",
    "                add=add+(a[i][k]*b[k][j]);\n",
    "            arr[i][j]=add;\n",
    "            add=0;\n",
    "    print(\"manually\")\n",
    "    print(arr);\n",
    "else:\n",
    "    print(\"matrix multiplication not possible\");\n",
    "\n",
    "print(\"function\");\n",
    "arr1=np.matmul(a,b);\n",
    "print(arr1);\n",
    "            \n",
    "                \n",
    "                "
   ]
  },
  {
   "cell_type": "code",
   "execution_count": 31,
   "id": "35e5ee05",
   "metadata": {},
   "outputs": [
    {
     "name": "stdout",
     "output_type": "stream",
     "text": [
      "matrix 1 \n",
      " [[5 3 8]\n",
      " [6 4 7]\n",
      " [5 7 2]] \n",
      "\n",
      "Matrixs 2 \n",
      " [[3 0 2 7]\n",
      " [6 1 0 7]\n",
      " [5 8 1 9]] \n",
      "\n",
      "the multiplication of matrix is  : \n",
      " [[ 73.  67.  18. 128.]\n",
      " [ 77.  60.  19. 133.]\n",
      " [ 67.  23.  12. 102.]]\n"
     ]
    }
   ],
   "source": [
    "import numpy as np;\n",
    "b1=3;\n",
    "c1=3;\n",
    "a=np.random.randint(0,10,(b1,c1));\n",
    "print(\"matrix 1 \\n\",a,'\\n');\n",
    "b2=3;\n",
    "c2=4;\n",
    "b=np.random.randint(0,10,(b2,c2));\n",
    "print('Matrixs 2 \\n',b,'\\n')\n",
    "\n",
    "if(c1==b2):\n",
    "    arr=np.zeros((b1,c2));\n",
    "    add=0;\n",
    "    for i in range(0,b1):                        \n",
    "        for j in range(0,c2):\n",
    "            for k in range(0,b2):\n",
    "                add=add + a[i][k]*b[k][j];\n",
    "            arr[i][j]=add;\n",
    "            add=0;\n",
    "    print(\"the multiplication of matrix is  : \\n\",arr);\n",
    "else:\n",
    "    print(\"invaild\");"
   ]
  }
 ],
 "metadata": {
  "kernelspec": {
   "display_name": "Python 3 (ipykernel)",
   "language": "python",
   "name": "python3"
  },
  "language_info": {
   "codemirror_mode": {
    "name": "ipython",
    "version": 3
   },
   "file_extension": ".py",
   "mimetype": "text/x-python",
   "name": "python",
   "nbconvert_exporter": "python",
   "pygments_lexer": "ipython3",
   "version": "3.9.13"
  }
 },
 "nbformat": 4,
 "nbformat_minor": 5
}
